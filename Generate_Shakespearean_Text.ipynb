{
  "nbformat": 4,
  "nbformat_minor": 0,
  "metadata": {
    "colab": {
      "provenance": [],
      "collapsed_sections": [
        "_sZ4tkzg0ah9",
        "GecHmsyv4gi9"
      ],
      "gpuType": "T4"
    },
    "kernelspec": {
      "name": "python3",
      "display_name": "Python 3"
    },
    "language_info": {
      "name": "python"
    },
    "accelerator": "GPU"
  },
  "cells": [
    {
      "cell_type": "code",
      "execution_count": 1,
      "metadata": {
        "id": "1djP18HF1i5d"
      },
      "outputs": [],
      "source": [
        "import pandas as pd\n",
        "import numpy as np\n",
        "import tensorflow as tf\n",
        "import seaborn as sns\n",
        "import matplotlib.pyplot as plt\n",
        "\n"
      ]
    },
    {
      "cell_type": "markdown",
      "source": [
        "# Load Our Data"
      ],
      "metadata": {
        "id": "GsDP-Uv60lL6"
      }
    },
    {
      "cell_type": "code",
      "source": [
        "shakespeare_url = \"https://homl.info/shakespeare\"\n",
        "filepath = tf.keras.utils.get_file(\"shakespeare.txt\", shakespeare_url)\n",
        "with open(filepath) as f:\n",
        " shakespeare_text = f.read()\n"
      ],
      "metadata": {
        "colab": {
          "base_uri": "https://localhost:8080/"
        },
        "id": "0zwdMVYN1s44",
        "outputId": "017f84e4-336f-48bf-ac82-2eafea060bbc"
      },
      "execution_count": 2,
      "outputs": [
        {
          "output_type": "stream",
          "name": "stdout",
          "text": [
            "Downloading data from https://homl.info/shakespeare\n",
            "\u001b[1m1115394/1115394\u001b[0m \u001b[32m━━━━━━━━━━━━━━━━━━━━\u001b[0m\u001b[37m\u001b[0m \u001b[1m0s\u001b[0m 0us/step\n"
          ]
        }
      ]
    },
    {
      "cell_type": "code",
      "source": [
        "print(shakespeare_text[:1000])"
      ],
      "metadata": {
        "colab": {
          "base_uri": "https://localhost:8080/"
        },
        "id": "9h6WgKsD14u3",
        "outputId": "7b71ebc1-d8df-4538-e984-96b5d8e34507"
      },
      "execution_count": 3,
      "outputs": [
        {
          "output_type": "stream",
          "name": "stdout",
          "text": [
            "First Citizen:\n",
            "Before we proceed any further, hear me speak.\n",
            "\n",
            "All:\n",
            "Speak, speak.\n",
            "\n",
            "First Citizen:\n",
            "You are all resolved rather to die than to famish?\n",
            "\n",
            "All:\n",
            "Resolved. resolved.\n",
            "\n",
            "First Citizen:\n",
            "First, you know Caius Marcius is chief enemy to the people.\n",
            "\n",
            "All:\n",
            "We know't, we know't.\n",
            "\n",
            "First Citizen:\n",
            "Let us kill him, and we'll have corn at our own price.\n",
            "Is't a verdict?\n",
            "\n",
            "All:\n",
            "No more talking on't; let it be done: away, away!\n",
            "\n",
            "Second Citizen:\n",
            "One word, good citizens.\n",
            "\n",
            "First Citizen:\n",
            "We are accounted poor citizens, the patricians good.\n",
            "What authority surfeits on would relieve us: if they\n",
            "would yield us but the superfluity, while it were\n",
            "wholesome, we might guess they relieved us humanely;\n",
            "but they think we are too dear: the leanness that\n",
            "afflicts us, the object of our misery, is as an\n",
            "inventory to particularise their abundance; our\n",
            "sufferance is a gain to them Let us revenge this with\n",
            "our pikes, ere we become rakes: for the gods know I\n",
            "speak this in hunger for bread, not in thirst for revenge.\n",
            "\n",
            "\n"
          ]
        }
      ]
    },
    {
      "cell_type": "code",
      "source": [],
      "metadata": {
        "id": "4MY68KgT10AF"
      },
      "execution_count": 3,
      "outputs": []
    },
    {
      "cell_type": "markdown",
      "source": [
        "# Text_Vectorization"
      ],
      "metadata": {
        "id": "_sZ4tkzg0ah9"
      }
    },
    {
      "cell_type": "code",
      "source": [
        "text_vetc_layer=tf.keras.layers.TextVectorization(standardize='lower_and_strip_punctuation',split='character')\n",
        "text_vetc_layer.adapt(shakespeare_text)"
      ],
      "metadata": {
        "id": "_sWhAQTq2xgA"
      },
      "execution_count": 4,
      "outputs": []
    },
    {
      "cell_type": "code",
      "source": [
        "text_vetc_layer(shakespeare_text)"
      ],
      "metadata": {
        "colab": {
          "base_uri": "https://localhost:8080/"
        },
        "id": "YFNh-VM73rw8",
        "outputId": "54cd22de-16ac-4ae9-ef6a-be82f43910bc"
      },
      "execution_count": 5,
      "outputs": [
        {
          "output_type": "execute_result",
          "data": {
            "text/plain": [
              "<tf.Tensor: shape=(1060997,), dtype=int64, numpy=array([20,  7, 10, ..., 11, 21, 12])>"
            ]
          },
          "metadata": {},
          "execution_count": 5
        }
      ]
    },
    {
      "cell_type": "code",
      "source": [
        "char_count=text_vetc_layer.vocabulary_size()\n",
        "char_count"
      ],
      "metadata": {
        "colab": {
          "base_uri": "https://localhost:8080/"
        },
        "id": "IJhpLYub51kn",
        "outputId": "1a73bb91-d8e5-4cb2-8782-c9fe91cc02cd"
      },
      "execution_count": 6,
      "outputs": [
        {
          "output_type": "execute_result",
          "data": {
            "text/plain": [
              "31"
            ]
          },
          "metadata": {},
          "execution_count": 6
        }
      ]
    },
    {
      "cell_type": "code",
      "source": [
        "encoder=text_vetc_layer(shakespeare_text)"
      ],
      "metadata": {
        "id": "PmqkeRDA6BOH"
      },
      "execution_count": 7,
      "outputs": []
    },
    {
      "cell_type": "code",
      "source": [
        "len(encoder)"
      ],
      "metadata": {
        "colab": {
          "base_uri": "https://localhost:8080/"
        },
        "id": "CDoEi23G6OsW",
        "outputId": "b3650ecc-4726-4fdf-8e73-648337bf0a4d"
      },
      "execution_count": 8,
      "outputs": [
        {
          "output_type": "execute_result",
          "data": {
            "text/plain": [
              "1060997"
            ]
          },
          "metadata": {},
          "execution_count": 8
        }
      ]
    },
    {
      "cell_type": "code",
      "source": [
        "encoder"
      ],
      "metadata": {
        "id": "iQ9eCVE46oPQ",
        "colab": {
          "base_uri": "https://localhost:8080/"
        },
        "outputId": "6965f82a-9ab2-4381-b072-3ec78f13a3a9"
      },
      "execution_count": 9,
      "outputs": [
        {
          "output_type": "execute_result",
          "data": {
            "text/plain": [
              "<tf.Tensor: shape=(1060997,), dtype=int64, numpy=array([20,  7, 10, ..., 11, 21, 12])>"
            ]
          },
          "metadata": {},
          "execution_count": 9
        }
      ]
    },
    {
      "cell_type": "code",
      "source": [
        "plt.figure(figsize=(20,7))\n",
        "sns.lineplot(encoder[:100],marker='o')\n",
        "plt.grid(True)\n",
        "plt.xlabel('First 100 Characters')\n",
        "plt.ylabel('Encoder Output Of 100 Characters')"
      ],
      "metadata": {
        "colab": {
          "base_uri": "https://localhost:8080/",
          "height": 0
        },
        "id": "mQRavk8w08mv",
        "outputId": "ce80271e-82f6-4b35-a3b6-20a9308c0574"
      },
      "execution_count": 10,
      "outputs": [
        {
          "output_type": "execute_result",
          "data": {
            "text/plain": [
              "Text(0, 0.5, 'Encoder Output Of 100 Characters')"
            ]
          },
          "metadata": {},
          "execution_count": 10
        },
        {
          "output_type": "display_data",
          "data": {
            "text/plain": [
              "<Figure size 2000x700 with 1 Axes>"
            ],
            "image/png": "[encoded data removed]"
          },
          "metadata": {}
        }
      ]
    },
    {
      "cell_type": "code",
      "source": [
        "encoder[:100]"
      ],
      "metadata": {
        "colab": {
          "base_uri": "https://localhost:8080/"
        },
        "id": "hw3KMjGr3TKU",
        "outputId": "d77905e5-68f6-4c09-ad00-b63d56d98915"
      },
      "execution_count": 11,
      "outputs": [
        {
          "output_type": "execute_result",
          "data": {
            "text/plain": [
              "<tf.Tensor: shape=(100,), dtype=int64, numpy=\n",
              "array([20,  7, 10,  9,  4,  2, 19,  7,  4,  7, 29,  3, 11, 12, 22,  3, 20,\n",
              "        5, 10,  3,  2, 18,  3,  2, 23, 10,  5, 19,  3,  3, 14,  2,  6, 11,\n",
              "       17,  2, 20, 15, 10,  4,  8,  3, 10,  2,  8,  3,  6, 10,  2, 16,  3,\n",
              "        2,  9, 23,  3,  6, 24, 12, 12,  6, 13, 13, 12,  9, 23,  3,  6, 24,\n",
              "        2,  9, 23,  3,  6, 24, 12, 12, 20,  7, 10,  9,  4,  2, 19,  7,  4,\n",
              "        7, 29,  3, 11, 12, 17,  5, 15,  2,  6, 10,  3,  2,  6, 13])>"
            ]
          },
          "metadata": {},
          "execution_count": 11
        }
      ]
    },
    {
      "cell_type": "code",
      "source": [
        "print(shakespeare_text[:100])"
      ],
      "metadata": {
        "colab": {
          "base_uri": "https://localhost:8080/"
        },
        "id": "hTv_IP4R0wbY",
        "outputId": "70368668-57c2-4bfe-d8a1-596430d7a671"
      },
      "execution_count": 12,
      "outputs": [
        {
          "output_type": "stream",
          "name": "stdout",
          "text": [
            "First Citizen:\n",
            "Before we proceed any further, hear me speak.\n",
            "\n",
            "All:\n",
            "Speak, speak.\n",
            "\n",
            "First Citizen:\n",
            "You\n"
          ]
        }
      ]
    },
    {
      "cell_type": "code",
      "source": [],
      "metadata": {
        "id": "T9VwTLmO4E3q"
      },
      "execution_count": 12,
      "outputs": []
    },
    {
      "cell_type": "markdown",
      "source": [
        "# Now Let's Create Our Dataset.\n",
        "\n",
        "Our dataset will consist of windows of length ... with targets of the same length."
      ],
      "metadata": {
        "id": "GecHmsyv4gi9"
      }
    },
    {
      "cell_type": "code",
      "source": [
        "def make_dataset(data,window_size,batch_size=32,shuffle=False,win_shift=1):\n",
        "  data=tf.data.Dataset.from_tensor_slices(data)\n",
        "  win_data=data.window(size=window_size+1,shift=win_shift,drop_remainder=True)\n",
        "  win_data=win_data.flat_map(lambda win:win.batch(window_size+1))\n",
        "  if shuffle==True:\n",
        "    win_data.shuffle(1000)\n",
        "  win_data=win_data.batch(batch_size=batch_size)\n",
        "  return win_data.map(lambda win: (win[:,:-1], win[:,1:])).prefetch(1)\n"
      ],
      "metadata": {
        "id": "JQoCmN__5MD2"
      },
      "execution_count": 13,
      "outputs": []
    },
    {
      "cell_type": "markdown",
      "source": [
        "* I will use 90% for Train and 10% for Validation"
      ],
      "metadata": {
        "id": "3Agjteki9XD0"
      }
    },
    {
      "cell_type": "code",
      "source": [
        "train_len=int(len(encoder)*0.9)\n",
        "train_set=make_dataset(encoder[:train_len],window_size=100).repeat()\n",
        "valid_set=make_dataset(encoder[train_len:],window_size=100)"
      ],
      "metadata": {
        "id": "yhiHxevE8gO4"
      },
      "execution_count": 14,
      "outputs": []
    },
    {
      "cell_type": "code",
      "source": [
        "list(train_set.take(1))"
      ],
      "metadata": {
        "colab": {
          "base_uri": "https://localhost:8080/"
        },
        "id": "-UXS_DGq9P2N",
        "outputId": "003d9a6c-2e85-4fc2-a424-7b17aa750be9"
      },
      "execution_count": 15,
      "outputs": [
        {
          "output_type": "execute_result",
          "data": {
            "text/plain": [
              "[(<tf.Tensor: shape=(32, 100), dtype=int64, numpy=\n",
              "  array([[20,  7, 10, ...,  2,  6, 13],\n",
              "         [ 7, 10,  9, ...,  6, 13, 13],\n",
              "         [10,  9,  4, ..., 13, 13,  2],\n",
              "         ...,\n",
              "         [ 3, 14,  2, ...,  8,  6, 11],\n",
              "         [14,  2,  6, ...,  6, 11,  2],\n",
              "         [ 2,  6, 11, ..., 11,  2,  4]])>,\n",
              "  <tf.Tensor: shape=(32, 100), dtype=int64, numpy=\n",
              "  array([[ 7, 10,  9, ...,  6, 13, 13],\n",
              "         [10,  9,  4, ..., 13, 13,  2],\n",
              "         [ 9,  4,  2, ..., 13,  2, 10],\n",
              "         ...,\n",
              "         [14,  2,  6, ...,  6, 11,  2],\n",
              "         [ 2,  6, 11, ..., 11,  2,  4],\n",
              "         [ 6, 11, 17, ...,  2,  4,  5]])>)]"
            ]
          },
          "metadata": {},
          "execution_count": 15
        }
      ]
    },
    {
      "cell_type": "code",
      "source": [
        "train_set.element_spec"
      ],
      "metadata": {
        "colab": {
          "base_uri": "https://localhost:8080/"
        },
        "id": "PsIxmmtI_AQa",
        "outputId": "6152f3a6-8edc-4633-c48d-ac3af8848182"
      },
      "execution_count": 16,
      "outputs": [
        {
          "output_type": "execute_result",
          "data": {
            "text/plain": [
              "(TensorSpec(shape=(None, None), dtype=tf.int64, name=None),\n",
              " TensorSpec(shape=(None, None), dtype=tf.int64, name=None))"
            ]
          },
          "metadata": {},
          "execution_count": 16
        }
      ]
    },
    {
      "cell_type": "code",
      "source": [],
      "metadata": {
        "id": "dRP2oAMX_ajz"
      },
      "execution_count": 16,
      "outputs": []
    },
    {
      "cell_type": "markdown",
      "source": [
        "# Model_1"
      ],
      "metadata": {
        "id": "MxUWxr2o_hxp"
      }
    },
    {
      "cell_type": "code",
      "source": [
        "model_1=tf.keras.Sequential([])\n",
        "model_1.add(tf.keras.layers.Input(shape=[None]))\n",
        "model_1.add(tf.keras.layers.Embedding(input_dim=char_count,output_dim=10)),\n",
        "model_1.add(tf.keras.layers.Conv1D(36, kernel_size=2, padding=\"causal\", activation=\"relu\")),\n",
        "model_1.add(tf.keras.layers.BatchNormalization())\n",
        "for rate in(2,4,6):\n",
        "  model_1.add(tf.keras.layers.Conv1D(filters=rate*26,padding='causal',kernel_size=2,activation='relu',dilation_rate=rate)),\n",
        "  model_1.add(tf.keras.layers.BatchNormalization()),\n",
        "model_1.add(tf.keras.layers.GRU(256,return_sequences=True)),\n",
        "model_1.add(tf.keras.layers.LSTM(256,return_sequences=True)),\n",
        "model_1.add(tf.keras.layers.Dense(char_count,activation='softmax'))\n",
        "model_1.summary()"
      ],
      "metadata": {
        "colab": {
          "base_uri": "https://localhost:8080/",
          "height": 577
        },
        "id": "OUHX1Ge4_kz6",
        "outputId": "a9948d48-92e8-4477-edcc-cddcf5afa80d"
      },
      "execution_count": null,
      "outputs": [
        {
          "output_type": "display_data",
          "data": {
            "text/plain": [
              "\u001b[1mModel: \"sequential_2\"\u001b[0m\n"
            ],
            "text/html": [
              "<pre style=\"white-space:pre;overflow-x:auto;line-height:normal;font-family:Menlo,'DejaVu Sans Mono',consolas,'Courier New',monospace\"><span style=\"font-weight: bold\">Model: \"sequential_2\"</span>\n",
              "</pre>\n"
            ]
          },
          "metadata": {}
        },
        {
          "output_type": "display_data",
          "data": {
            "text/plain": [
              "┏━━━━━━━━━━━━━━━━━━━━━━━━━━━━━━━━━┳━━━━━━━━━━━━━━━━━━━━━━━━┳━━━━━━━━━━━━━━━┓\n",
              "┃\u001b[1m \u001b[0m\u001b[1mLayer (type)                   \u001b[0m\u001b[1m \u001b[0m┃\u001b[1m \u001b[0m\u001b[1mOutput Shape          \u001b[0m\u001b[1m \u001b[0m┃\u001b[1m \u001b[0m\u001b[1m      Param #\u001b[0m\u001b[1m \u001b[0m┃\n",
              "┡━━━━━━━━━━━━━━━━━━━━━━━━━━━━━━━━━╇━━━━━━━━━━━━━━━━━━━━━━━━╇━━━━━━━━━━━━━━━┩\n",
              "│ embedding_2 (\u001b[38;5;33mEmbedding\u001b[0m)         │ (\u001b[38;5;45mNone\u001b[0m, \u001b[38;5;45mNone\u001b[0m, \u001b[38;5;34m10\u001b[0m)       │           \u001b[38;5;34m310\u001b[0m │\n",
              "├─────────────────────────────────┼────────────────────────┼───────────────┤\n",
              "│ conv1d_8 (\u001b[38;5;33mConv1D\u001b[0m)               │ (\u001b[38;5;45mNone\u001b[0m, \u001b[38;5;45mNone\u001b[0m, \u001b[38;5;34m36\u001b[0m)       │           \u001b[38;5;34m756\u001b[0m │\n",
              "├─────────────────────────────────┼────────────────────────┼───────────────┤\n",
              "│ batch_normalization_8           │ (\u001b[38;5;45mNone\u001b[0m, \u001b[38;5;45mNone\u001b[0m, \u001b[38;5;34m36\u001b[0m)       │           \u001b[38;5;34m144\u001b[0m │\n",
              "│ (\u001b[38;5;33mBatchNormalization\u001b[0m)            │                        │               │\n",
              "├─────────────────────────────────┼────────────────────────┼───────────────┤\n",
              "│ conv1d_9 (\u001b[38;5;33mConv1D\u001b[0m)               │ (\u001b[38;5;45mNone\u001b[0m, \u001b[38;5;45mNone\u001b[0m, \u001b[38;5;34m52\u001b[0m)       │         \u001b[38;5;34m3,796\u001b[0m │\n",
              "├─────────────────────────────────┼────────────────────────┼───────────────┤\n",
              "│ batch_normalization_9           │ (\u001b[38;5;45mNone\u001b[0m, \u001b[38;5;45mNone\u001b[0m, \u001b[38;5;34m52\u001b[0m)       │           \u001b[38;5;34m208\u001b[0m │\n",
              "│ (\u001b[38;5;33mBatchNormalization\u001b[0m)            │                        │               │\n",
              "├─────────────────────────────────┼────────────────────────┼───────────────┤\n",
              "│ conv1d_10 (\u001b[38;5;33mConv1D\u001b[0m)              │ (\u001b[38;5;45mNone\u001b[0m, \u001b[38;5;45mNone\u001b[0m, \u001b[38;5;34m104\u001b[0m)      │        \u001b[38;5;34m10,920\u001b[0m │\n",
              "├─────────────────────────────────┼────────────────────────┼───────────────┤\n",
              "│ batch_normalization_10          │ (\u001b[38;5;45mNone\u001b[0m, \u001b[38;5;45mNone\u001b[0m, \u001b[38;5;34m104\u001b[0m)      │           \u001b[38;5;34m416\u001b[0m │\n",
              "│ (\u001b[38;5;33mBatchNormalization\u001b[0m)            │                        │               │\n",
              "├─────────────────────────────────┼────────────────────────┼───────────────┤\n",
              "│ conv1d_11 (\u001b[38;5;33mConv1D\u001b[0m)              │ (\u001b[38;5;45mNone\u001b[0m, \u001b[38;5;45mNone\u001b[0m, \u001b[38;5;34m156\u001b[0m)      │        \u001b[38;5;34m32,604\u001b[0m │\n",
              "├─────────────────────────────────┼────────────────────────┼───────────────┤\n",
              "│ batch_normalization_11          │ (\u001b[38;5;45mNone\u001b[0m, \u001b[38;5;45mNone\u001b[0m, \u001b[38;5;34m156\u001b[0m)      │           \u001b[38;5;34m624\u001b[0m │\n",
              "│ (\u001b[38;5;33mBatchNormalization\u001b[0m)            │                        │               │\n",
              "├─────────────────────────────────┼────────────────────────┼───────────────┤\n",
              "│ gru_2 (\u001b[38;5;33mGRU\u001b[0m)                     │ (\u001b[38;5;45mNone\u001b[0m, \u001b[38;5;45mNone\u001b[0m, \u001b[38;5;34m256\u001b[0m)      │       \u001b[38;5;34m317,952\u001b[0m │\n",
              "├─────────────────────────────────┼────────────────────────┼───────────────┤\n",
              "│ lstm_2 (\u001b[38;5;33mLSTM\u001b[0m)                   │ (\u001b[38;5;45mNone\u001b[0m, \u001b[38;5;45mNone\u001b[0m, \u001b[38;5;34m256\u001b[0m)      │       \u001b[38;5;34m525,312\u001b[0m │\n",
              "├─────────────────────────────────┼────────────────────────┼───────────────┤\n",
              "│ dense_2 (\u001b[38;5;33mDense\u001b[0m)                 │ (\u001b[38;5;45mNone\u001b[0m, \u001b[38;5;45mNone\u001b[0m, \u001b[38;5;34m31\u001b[0m)       │         \u001b[38;5;34m7,967\u001b[0m │\n",
              "└─────────────────────────────────┴────────────────────────┴───────────────┘\n"
            ],
            "text/html": [
              "<pre style=\"white-space:pre;overflow-x:auto;line-height:normal;font-family:Menlo,'DejaVu Sans Mono',consolas,'Courier New',monospace\">┏━━━━━━━━━━━━━━━━━━━━━━━━━━━━━━━━━┳━━━━━━━━━━━━━━━━━━━━━━━━┳━━━━━━━━━━━━━━━┓\n",
              "┃<span style=\"font-weight: bold\"> Layer (type)                    </span>┃<span style=\"font-weight: bold\"> Output Shape           </span>┃<span style=\"font-weight: bold\">       Param # </span>┃\n",
              "┡━━━━━━━━━━━━━━━━━━━━━━━━━━━━━━━━━╇━━━━━━━━━━━━━━━━━━━━━━━━╇━━━━━━━━━━━━━━━┩\n",
              "│ embedding_2 (<span style=\"color: #0087ff; text-decoration-color: #0087ff\">Embedding</span>)         │ (<span style=\"color: #00d7ff; text-decoration-color: #00d7ff\">None</span>, <span style=\"color: #00d7ff; text-decoration-color: #00d7ff\">None</span>, <span style=\"color: #00af00; text-decoration-color: #00af00\">10</span>)       │           <span style=\"color: #00af00; text-decoration-color: #00af00\">310</span> │\n",
              "├─────────────────────────────────┼────────────────────────┼───────────────┤\n",
              "│ conv1d_8 (<span style=\"color: #0087ff; text-decoration-color: #0087ff\">Conv1D</span>)               │ (<span style=\"color: #00d7ff; text-decoration-color: #00d7ff\">None</span>, <span style=\"color: #00d7ff; text-decoration-color: #00d7ff\">None</span>, <span style=\"color: #00af00; text-decoration-color: #00af00\">36</span>)       │           <span style=\"color: #00af00; text-decoration-color: #00af00\">756</span> │\n",
              "├─────────────────────────────────┼────────────────────────┼───────────────┤\n",
              "│ batch_normalization_8           │ (<span style=\"color: #00d7ff; text-decoration-color: #00d7ff\">None</span>, <span style=\"color: #00d7ff; text-decoration-color: #00d7ff\">None</span>, <span style=\"color: #00af00; text-decoration-color: #00af00\">36</span>)       │           <span style=\"color: #00af00; text-decoration-color: #00af00\">144</span> │\n",
              "│ (<span style=\"color: #0087ff; text-decoration-color: #0087ff\">BatchNormalization</span>)            │                        │               │\n",
              "├─────────────────────────────────┼────────────────────────┼───────────────┤\n",
              "│ conv1d_9 (<span style=\"color: #0087ff; text-decoration-color: #0087ff\">Conv1D</span>)               │ (<span style=\"color: #00d7ff; text-decoration-color: #00d7ff\">None</span>, <span style=\"color: #00d7ff; text-decoration-color: #00d7ff\">None</span>, <span style=\"color: #00af00; text-decoration-color: #00af00\">52</span>)       │         <span style=\"color: #00af00; text-decoration-color: #00af00\">3,796</span> │\n",
              "├─────────────────────────────────┼────────────────────────┼───────────────┤\n",
              "│ batch_normalization_9           │ (<span style=\"color: #00d7ff; text-decoration-color: #00d7ff\">None</span>, <span style=\"color: #00d7ff; text-decoration-color: #00d7ff\">None</span>, <span style=\"color: #00af00; text-decoration-color: #00af00\">52</span>)       │           <span style=\"color: #00af00; text-decoration-color: #00af00\">208</span> │\n",
              "│ (<span style=\"color: #0087ff; text-decoration-color: #0087ff\">BatchNormalization</span>)            │                        │               │\n",
              "├─────────────────────────────────┼────────────────────────┼───────────────┤\n",
              "│ conv1d_10 (<span style=\"color: #0087ff; text-decoration-color: #0087ff\">Conv1D</span>)              │ (<span style=\"color: #00d7ff; text-decoration-color: #00d7ff\">None</span>, <span style=\"color: #00d7ff; text-decoration-color: #00d7ff\">None</span>, <span style=\"color: #00af00; text-decoration-color: #00af00\">104</span>)      │        <span style=\"color: #00af00; text-decoration-color: #00af00\">10,920</span> │\n",
              "├─────────────────────────────────┼────────────────────────┼───────────────┤\n",
              "│ batch_normalization_10          │ (<span style=\"color: #00d7ff; text-decoration-color: #00d7ff\">None</span>, <span style=\"color: #00d7ff; text-decoration-color: #00d7ff\">None</span>, <span style=\"color: #00af00; text-decoration-color: #00af00\">104</span>)      │           <span style=\"color: #00af00; text-decoration-color: #00af00\">416</span> │\n",
              "│ (<span style=\"color: #0087ff; text-decoration-color: #0087ff\">BatchNormalization</span>)            │                        │               │\n",
              "├─────────────────────────────────┼────────────────────────┼───────────────┤\n",
              "│ conv1d_11 (<span style=\"color: #0087ff; text-decoration-color: #0087ff\">Conv1D</span>)              │ (<span style=\"color: #00d7ff; text-decoration-color: #00d7ff\">None</span>, <span style=\"color: #00d7ff; text-decoration-color: #00d7ff\">None</span>, <span style=\"color: #00af00; text-decoration-color: #00af00\">156</span>)      │        <span style=\"color: #00af00; text-decoration-color: #00af00\">32,604</span> │\n",
              "├─────────────────────────────────┼────────────────────────┼───────────────┤\n",
              "│ batch_normalization_11          │ (<span style=\"color: #00d7ff; text-decoration-color: #00d7ff\">None</span>, <span style=\"color: #00d7ff; text-decoration-color: #00d7ff\">None</span>, <span style=\"color: #00af00; text-decoration-color: #00af00\">156</span>)      │           <span style=\"color: #00af00; text-decoration-color: #00af00\">624</span> │\n",
              "│ (<span style=\"color: #0087ff; text-decoration-color: #0087ff\">BatchNormalization</span>)            │                        │               │\n",
              "├─────────────────────────────────┼────────────────────────┼───────────────┤\n",
              "│ gru_2 (<span style=\"color: #0087ff; text-decoration-color: #0087ff\">GRU</span>)                     │ (<span style=\"color: #00d7ff; text-decoration-color: #00d7ff\">None</span>, <span style=\"color: #00d7ff; text-decoration-color: #00d7ff\">None</span>, <span style=\"color: #00af00; text-decoration-color: #00af00\">256</span>)      │       <span style=\"color: #00af00; text-decoration-color: #00af00\">317,952</span> │\n",
              "├─────────────────────────────────┼────────────────────────┼───────────────┤\n",
              "│ lstm_2 (<span style=\"color: #0087ff; text-decoration-color: #0087ff\">LSTM</span>)                   │ (<span style=\"color: #00d7ff; text-decoration-color: #00d7ff\">None</span>, <span style=\"color: #00d7ff; text-decoration-color: #00d7ff\">None</span>, <span style=\"color: #00af00; text-decoration-color: #00af00\">256</span>)      │       <span style=\"color: #00af00; text-decoration-color: #00af00\">525,312</span> │\n",
              "├─────────────────────────────────┼────────────────────────┼───────────────┤\n",
              "│ dense_2 (<span style=\"color: #0087ff; text-decoration-color: #0087ff\">Dense</span>)                 │ (<span style=\"color: #00d7ff; text-decoration-color: #00d7ff\">None</span>, <span style=\"color: #00d7ff; text-decoration-color: #00d7ff\">None</span>, <span style=\"color: #00af00; text-decoration-color: #00af00\">31</span>)       │         <span style=\"color: #00af00; text-decoration-color: #00af00\">7,967</span> │\n",
              "└─────────────────────────────────┴────────────────────────┴───────────────┘\n",
              "</pre>\n"
            ]
          },
          "metadata": {}
        },
        {
          "output_type": "display_data",
          "data": {
            "text/plain": [
              "\u001b[1m Total params: \u001b[0m\u001b[38;5;34m901,009\u001b[0m (3.44 MB)\n"
            ],
            "text/html": [
              "<pre style=\"white-space:pre;overflow-x:auto;line-height:normal;font-family:Menlo,'DejaVu Sans Mono',consolas,'Courier New',monospace\"><span style=\"font-weight: bold\"> Total params: </span><span style=\"color: #00af00; text-decoration-color: #00af00\">901,009</span> (3.44 MB)\n",
              "</pre>\n"
            ]
          },
          "metadata": {}
        },
        {
          "output_type": "display_data",
          "data": {
            "text/plain": [
              "\u001b[1m Trainable params: \u001b[0m\u001b[38;5;34m900,313\u001b[0m (3.43 MB)\n"
            ],
            "text/html": [
              "<pre style=\"white-space:pre;overflow-x:auto;line-height:normal;font-family:Menlo,'DejaVu Sans Mono',consolas,'Courier New',monospace\"><span style=\"font-weight: bold\"> Trainable params: </span><span style=\"color: #00af00; text-decoration-color: #00af00\">900,313</span> (3.43 MB)\n",
              "</pre>\n"
            ]
          },
          "metadata": {}
        },
        {
          "output_type": "display_data",
          "data": {
            "text/plain": [
              "\u001b[1m Non-trainable params: \u001b[0m\u001b[38;5;34m696\u001b[0m (2.72 KB)\n"
            ],
            "text/html": [
              "<pre style=\"white-space:pre;overflow-x:auto;line-height:normal;font-family:Menlo,'DejaVu Sans Mono',consolas,'Courier New',monospace\"><span style=\"font-weight: bold\"> Non-trainable params: </span><span style=\"color: #00af00; text-decoration-color: #00af00\">696</span> (2.72 KB)\n",
              "</pre>\n"
            ]
          },
          "metadata": {}
        }
      ]
    },
    {
      "cell_type": "code",
      "source": [
        "def lr_schedule_exp(epoch):\n",
        "  if epoch<5:\n",
        "    return float(tf.exp(-epoch/10.)*0.001)/2\n",
        "  else:\n",
        "    return 0.0001/5\n",
        "learning_rate_callback=tf.keras.callbacks.LearningRateScheduler(lr_schedule_exp)\n",
        "checkpoint=tf.keras.callbacks.ModelCheckpoint('model_1.keras',monitor='val_accuracy',mode='max',save_best_only=True,verbose=1)"
      ],
      "metadata": {
        "id": "iCU1BbS-_6Qc"
      },
      "execution_count": null,
      "outputs": []
    },
    {
      "cell_type": "code",
      "source": [
        "model_1.compile(loss=\"sparse_categorical_crossentropy\", optimizer=tf.keras.optimizers.Nadam(),metrics=[\"accuracy\"])\n",
        "history_1=model_1.fit(train_set, epochs=7, validation_data=valid_set,callbacks=[learning_rate_callback,checkpoint],steps_per_epoch=29838)"
      ],
      "metadata": {
        "colab": {
          "base_uri": "https://localhost:8080/"
        },
        "id": "MTOVbZeoACyl",
        "outputId": "75426f1e-afa6-4309-cf0f-f23fb69e94b3"
      },
      "execution_count": null,
      "outputs": [
        {
          "output_type": "stream",
          "name": "stdout",
          "text": [
            "Epoch 1/7\n",
            "\u001b[1m29838/29838\u001b[0m \u001b[32m━━━━━━━━━━━━━━━━━━━━\u001b[0m\u001b[37m\u001b[0m \u001b[1m0s\u001b[0m 24ms/step - accuracy: 0.4911 - loss: 1.6674\n",
            "Epoch 1: val_accuracy improved from -inf to 0.49490, saving model to model_1.keras\n",
            "\u001b[1m29838/29838\u001b[0m \u001b[32m━━━━━━━━━━━━━━━━━━━━\u001b[0m\u001b[37m\u001b[0m \u001b[1m767s\u001b[0m 25ms/step - accuracy: 0.4911 - loss: 1.6674 - val_accuracy: 0.4949 - val_loss: 1.6344 - learning_rate: 5.0000e-04\n",
            "Epoch 2/7\n",
            "\u001b[1m    1/29838\u001b[0m \u001b[37m━━━━━━━━━━━━━━━━━━━━\u001b[0m \u001b[1m11:48\u001b[0m 24ms/step - accuracy: 0.5103 - loss: 1.5452"
          ]
        },
        {
          "output_type": "stream",
          "name": "stderr",
          "text": [
            "/usr/local/lib/python3.11/dist-packages/keras/src/trainers/epoch_iterator.py:151: UserWarning: Your input ran out of data; interrupting training. Make sure that your dataset or generator can generate at least `steps_per_epoch * epochs` batches. You may need to use the `.repeat()` function when building your dataset.\n",
            "  self._interrupted_warning()\n"
          ]
        },
        {
          "output_type": "stream",
          "name": "stdout",
          "text": [
            "\u001b[1m29836/29838\u001b[0m \u001b[32m━━━━━━━━━━━━━━━━━━━\u001b[0m\u001b[37m━\u001b[0m \u001b[1m0s\u001b[0m 24ms/step - accuracy: 0.5656 - loss: 1.3746\n",
            "Epoch 2: val_accuracy improved from 0.49490 to 0.51032, saving model to model_1.keras\n",
            "\u001b[1m29838/29838\u001b[0m \u001b[32m━━━━━━━━━━━━━━━━━━━━\u001b[0m\u001b[37m\u001b[0m \u001b[1m802s\u001b[0m 27ms/step - accuracy: 0.5656 - loss: 1.3746 - val_accuracy: 0.5103 - val_loss: 1.5813 - learning_rate: 4.5242e-04\n",
            "Epoch 3/7\n",
            "\u001b[1m29836/29838\u001b[0m \u001b[32m━━━━━━━━━━━━━━━━━━━\u001b[0m\u001b[37m━\u001b[0m \u001b[1m0s\u001b[0m 25ms/step - accuracy: 0.5764 - loss: 1.3315\n",
            "Epoch 3: val_accuracy improved from 0.51032 to 0.52045, saving model to model_1.keras\n",
            "\u001b[1m29838/29838\u001b[0m \u001b[32m━━━━━━━━━━━━━━━━━━━━\u001b[0m\u001b[37m\u001b[0m \u001b[1m802s\u001b[0m 27ms/step - accuracy: 0.5764 - loss: 1.3315 - val_accuracy: 0.5205 - val_loss: 1.5528 - learning_rate: 4.0937e-04\n",
            "Epoch 4/7\n",
            "\u001b[1m29838/29838\u001b[0m \u001b[32m━━━━━━━━━━━━━━━━━━━━\u001b[0m\u001b[37m\u001b[0m \u001b[1m0s\u001b[0m 26ms/step - accuracy: 0.5833 - loss: 1.3049\n",
            "Epoch 4: val_accuracy improved from 0.52045 to 0.52834, saving model to model_1.keras\n",
            "\u001b[1m29838/29838\u001b[0m \u001b[32m━━━━━━━━━━━━━━━━━━━━\u001b[0m\u001b[37m\u001b[0m \u001b[1m802s\u001b[0m 27ms/step - accuracy: 0.5833 - loss: 1.3049 - val_accuracy: 0.5283 - val_loss: 1.5299 - learning_rate: 3.7041e-04\n",
            "Epoch 5/7\n",
            "\u001b[1m29838/29838\u001b[0m \u001b[32m━━━━━━━━━━━━━━━━━━━━\u001b[0m\u001b[37m\u001b[0m \u001b[1m0s\u001b[0m 27ms/step - accuracy: 0.5895 - loss: 1.2826\n",
            "Epoch 5: val_accuracy improved from 0.52834 to 0.53372, saving model to model_1.keras\n",
            "\u001b[1m29838/29838\u001b[0m \u001b[32m━━━━━━━━━━━━━━━━━━━━\u001b[0m\u001b[37m\u001b[0m \u001b[1m868s\u001b[0m 29ms/step - accuracy: 0.5895 - loss: 1.2826 - val_accuracy: 0.5337 - val_loss: 1.5144 - learning_rate: 3.3516e-04\n",
            "Epoch 6/7\n",
            "\u001b[1m29837/29838\u001b[0m \u001b[32m━━━━━━━━━━━━━━━━━━━\u001b[0m\u001b[37m━\u001b[0m \u001b[1m0s\u001b[0m 28ms/step - accuracy: 0.5713 - loss: 1.3371\n",
            "Epoch 6: val_accuracy improved from 0.53372 to 0.54655, saving model to model_1.keras\n",
            "\u001b[1m29838/29838\u001b[0m \u001b[32m━━━━━━━━━━━━━━━━━━━━\u001b[0m\u001b[37m\u001b[0m \u001b[1m862s\u001b[0m 29ms/step - accuracy: 0.5713 - loss: 1.3371 - val_accuracy: 0.5466 - val_loss: 1.4751 - learning_rate: 2.0000e-05\n",
            "Epoch 7/7\n",
            "\u001b[1m29838/29838\u001b[0m \u001b[32m━━━━━━━━━━━━━━━━━━━━\u001b[0m\u001b[37m\u001b[0m \u001b[1m0s\u001b[0m 26ms/step - accuracy: 0.5907 - loss: 1.2700\n",
            "Epoch 7: val_accuracy did not improve from 0.54655\n",
            "\u001b[1m29838/29838\u001b[0m \u001b[32m━━━━━━━━━━━━━━━━━━━━\u001b[0m\u001b[37m\u001b[0m \u001b[1m862s\u001b[0m 29ms/step - accuracy: 0.5907 - loss: 1.2700 - val_accuracy: 0.5465 - val_loss: 1.4735 - learning_rate: 2.0000e-05\n"
          ]
        }
      ]
    },
    {
      "cell_type": "code",
      "source": [
        "model_1.evaluate(valid_set)"
      ],
      "metadata": {
        "colab": {
          "base_uri": "https://localhost:8080/"
        },
        "id": "qH_wUf6HYDax",
        "outputId": "20b36d2a-efc2-4582-a348-966f5122f8d3"
      },
      "execution_count": null,
      "outputs": [
        {
          "output_type": "stream",
          "name": "stdout",
          "text": [
            "\u001b[1m3313/3313\u001b[0m \u001b[32m━━━━━━━━━━━━━━━━━━━━\u001b[0m\u001b[37m\u001b[0m \u001b[1m39s\u001b[0m 12ms/step - accuracy: 0.5614 - loss: 1.4103\n"
          ]
        },
        {
          "output_type": "stream",
          "name": "stderr",
          "text": [
            "/usr/local/lib/python3.11/dist-packages/keras/src/trainers/epoch_iterator.py:151: UserWarning: Your input ran out of data; interrupting training. Make sure that your dataset or generator can generate at least `steps_per_epoch * epochs` batches. You may need to use the `.repeat()` function when building your dataset.\n",
            "  self._interrupted_warning()\n"
          ]
        },
        {
          "output_type": "execute_result",
          "data": {
            "text/plain": [
              "[1.4852190017700195, 0.5453346371650696]"
            ]
          },
          "metadata": {},
          "execution_count": 45
        }
      ]
    },
    {
      "cell_type": "markdown",
      "source": [
        "* Second Run"
      ],
      "metadata": {
        "id": "V_UlTaiyE6UW"
      }
    },
    {
      "cell_type": "code",
      "source": [
        "model_1=tf.keras.models.load_model('Model_Sh.keras')\n"
      ],
      "metadata": {
        "id": "-lClJnyDDi3Y"
      },
      "execution_count": 18,
      "outputs": []
    },
    {
      "cell_type": "code",
      "source": [
        "def lr_schedule_exp(epoch):\n",
        "    return float(tf.exp(-epoch/10.)*0.001)/2\n",
        "learning_rate_callback=tf.keras.callbacks.LearningRateScheduler(lr_schedule_exp)\n",
        "checkpoint=tf.keras.callbacks.ModelCheckpoint('model_1.keras',monitor='val_accuracy',mode='max',save_best_only=True,verbose=1)"
      ],
      "metadata": {
        "id": "ALPF4hkgEBWk"
      },
      "execution_count": 20,
      "outputs": []
    },
    {
      "cell_type": "code",
      "source": [
        "history_1=model_1.fit(train_set, initial_epoch=7,epochs=18, validation_data=valid_set,callbacks=[learning_rate_callback,checkpoint],steps_per_epoch=29837)"
      ],
      "metadata": {
        "id": "9qbsk3AlEGRk",
        "outputId": "9a79680b-9326-4fa6-82b1-9768452634fb",
        "colab": {
          "base_uri": "https://localhost:8080/"
        }
      },
      "execution_count": 21,
      "outputs": [
        {
          "output_type": "stream",
          "name": "stdout",
          "text": [
            "Epoch 8/18\n",
            "\u001b[1m29836/29837\u001b[0m \u001b[32m━━━━━━━━━━━━━━━━━━━\u001b[0m\u001b[37m━\u001b[0m \u001b[1m0s\u001b[0m 24ms/step - accuracy: 0.6027 - loss: 1.2338\n",
            "Epoch 8: val_accuracy improved from -inf to 0.54129, saving model to model_1.keras\n",
            "\u001b[1m29837/29837\u001b[0m \u001b[32m━━━━━━━━━━━━━━━━━━━━\u001b[0m\u001b[37m\u001b[0m \u001b[1m772s\u001b[0m 26ms/step - accuracy: 0.6027 - loss: 1.2338 - val_accuracy: 0.5413 - val_loss: 1.4945 - learning_rate: 2.4829e-04\n",
            "Epoch 9/18\n"
          ]
        },
        {
          "output_type": "stream",
          "name": "stderr",
          "text": [
            "/usr/local/lib/python3.11/dist-packages/keras/src/trainers/epoch_iterator.py:151: UserWarning: Your input ran out of data; interrupting training. Make sure that your dataset or generator can generate at least `steps_per_epoch * epochs` batches. You may need to use the `.repeat()` function when building your dataset.\n",
            "  self._interrupted_warning()\n"
          ]
        },
        {
          "output_type": "stream",
          "name": "stdout",
          "text": [
            "\u001b[1m29836/29837\u001b[0m \u001b[32m━━━━━━━━━━━━━━━━━━━\u001b[0m\u001b[37m━\u001b[0m \u001b[1m0s\u001b[0m 25ms/step - accuracy: 0.6060 - loss: 1.2236\n",
            "Epoch 9: val_accuracy improved from 0.54129 to 0.54319, saving model to model_1.keras\n",
            "\u001b[1m29837/29837\u001b[0m \u001b[32m━━━━━━━━━━━━━━━━━━━━\u001b[0m\u001b[37m\u001b[0m \u001b[1m804s\u001b[0m 27ms/step - accuracy: 0.6060 - loss: 1.2236 - val_accuracy: 0.5432 - val_loss: 1.4939 - learning_rate: 2.2466e-04\n",
            "Epoch 10/18\n",
            "\u001b[1m29836/29837\u001b[0m \u001b[32m━━━━━━━━━━━━━━━━━━━\u001b[0m\u001b[37m━\u001b[0m \u001b[1m0s\u001b[0m 24ms/step - accuracy: 0.6118 - loss: 1.2021\n",
            "Epoch 10: val_accuracy improved from 0.54319 to 0.54639, saving model to model_1.keras\n",
            "\u001b[1m29837/29837\u001b[0m \u001b[32m━━━━━━━━━━━━━━━━━━━━\u001b[0m\u001b[37m\u001b[0m \u001b[1m801s\u001b[0m 27ms/step - accuracy: 0.6118 - loss: 1.2021 - val_accuracy: 0.5464 - val_loss: 1.4839 - learning_rate: 2.0328e-04\n",
            "Epoch 11/18\n",
            "\u001b[1m29837/29837\u001b[0m \u001b[32m━━━━━━━━━━━━━━━━━━━━\u001b[0m\u001b[37m\u001b[0m \u001b[1m0s\u001b[0m 24ms/step - accuracy: 0.6188 - loss: 1.1796\n",
            "Epoch 11: val_accuracy improved from 0.54639 to 0.54817, saving model to model_1.keras\n",
            "\u001b[1m29837/29837\u001b[0m \u001b[32m━━━━━━━━━━━━━━━━━━━━\u001b[0m\u001b[37m\u001b[0m \u001b[1m802s\u001b[0m 27ms/step - accuracy: 0.6188 - loss: 1.1796 - val_accuracy: 0.5482 - val_loss: 1.4801 - learning_rate: 1.8394e-04\n",
            "Epoch 12/18\n",
            "\u001b[1m29836/29837\u001b[0m \u001b[32m━━━━━━━━━━━━━━━━━━━\u001b[0m\u001b[37m━\u001b[0m \u001b[1m0s\u001b[0m 25ms/step - accuracy: 0.6258 - loss: 1.1559\n",
            "Epoch 12: val_accuracy improved from 0.54817 to 0.54874, saving model to model_1.keras\n",
            "\u001b[1m29837/29837\u001b[0m \u001b[32m━━━━━━━━━━━━━━━━━━━━\u001b[0m\u001b[37m\u001b[0m \u001b[1m802s\u001b[0m 27ms/step - accuracy: 0.6258 - loss: 1.1559 - val_accuracy: 0.5487 - val_loss: 1.4909 - learning_rate: 1.6644e-04\n",
            "Epoch 13/18\n",
            "\u001b[1m29835/29837\u001b[0m \u001b[32m━━━━━━━━━━━━━━━━━━━\u001b[0m\u001b[37m━\u001b[0m \u001b[1m0s\u001b[0m 25ms/step - accuracy: 0.6328 - loss: 1.1327\n",
            "Epoch 13: val_accuracy did not improve from 0.54874\n",
            "\u001b[1m29837/29837\u001b[0m \u001b[32m━━━━━━━━━━━━━━━━━━━━\u001b[0m\u001b[37m\u001b[0m \u001b[1m801s\u001b[0m 27ms/step - accuracy: 0.6328 - loss: 1.1327 - val_accuracy: 0.5471 - val_loss: 1.5037 - learning_rate: 1.5060e-04\n",
            "Epoch 14/18\n",
            "\u001b[1m29837/29837\u001b[0m \u001b[32m━━━━━━━━━━━━━━━━━━━━\u001b[0m\u001b[37m\u001b[0m \u001b[1m0s\u001b[0m 25ms/step - accuracy: 0.6408 - loss: 1.1084\n",
            "Epoch 14: val_accuracy did not improve from 0.54874\n",
            "\u001b[1m29837/29837\u001b[0m \u001b[32m━━━━━━━━━━━━━━━━━━━━\u001b[0m\u001b[37m\u001b[0m \u001b[1m765s\u001b[0m 26ms/step - accuracy: 0.6408 - loss: 1.1084 - val_accuracy: 0.5465 - val_loss: 1.5141 - learning_rate: 1.3627e-04\n",
            "Epoch 15/18\n",
            "\u001b[1m29837/29837\u001b[0m \u001b[32m━━━━━━━━━━━━━━━━━━━━\u001b[0m\u001b[37m\u001b[0m \u001b[1m0s\u001b[0m 24ms/step - accuracy: 0.6483 - loss: 1.0860\n",
            "Epoch 15: val_accuracy did not improve from 0.54874\n",
            "\u001b[1m29837/29837\u001b[0m \u001b[32m━━━━━━━━━━━━━━━━━━━━\u001b[0m\u001b[37m\u001b[0m \u001b[1m804s\u001b[0m 27ms/step - accuracy: 0.6483 - loss: 1.0860 - val_accuracy: 0.5458 - val_loss: 1.5294 - learning_rate: 1.2330e-04\n",
            "Epoch 16/18\n",
            "\u001b[1m29837/29837\u001b[0m \u001b[32m━━━━━━━━━━━━━━━━━━━━\u001b[0m\u001b[37m\u001b[0m \u001b[1m0s\u001b[0m 24ms/step - accuracy: 0.6548 - loss: 1.0657\n",
            "Epoch 16: val_accuracy did not improve from 0.54874\n",
            "\u001b[1m29837/29837\u001b[0m \u001b[32m━━━━━━━━━━━━━━━━━━━━\u001b[0m\u001b[37m\u001b[0m \u001b[1m800s\u001b[0m 27ms/step - accuracy: 0.6548 - loss: 1.0657 - val_accuracy: 0.5443 - val_loss: 1.5417 - learning_rate: 1.1157e-04\n",
            "Epoch 17/18\n",
            "\u001b[1m29836/29837\u001b[0m \u001b[32m━━━━━━━━━━━━━━━━━━━\u001b[0m\u001b[37m━\u001b[0m \u001b[1m0s\u001b[0m 24ms/step - accuracy: 0.6614 - loss: 1.0471\n",
            "Epoch 17: val_accuracy did not improve from 0.54874\n",
            "\u001b[1m29837/29837\u001b[0m \u001b[32m━━━━━━━━━━━━━━━━━━━━\u001b[0m\u001b[37m\u001b[0m \u001b[1m749s\u001b[0m 25ms/step - accuracy: 0.6614 - loss: 1.0471 - val_accuracy: 0.5427 - val_loss: 1.5597 - learning_rate: 1.0095e-04\n",
            "Epoch 18/18\n",
            "\u001b[1m29836/29837\u001b[0m \u001b[32m━━━━━━━━━━━━━━━━━━━\u001b[0m\u001b[37m━\u001b[0m \u001b[1m0s\u001b[0m 24ms/step - accuracy: 0.6675 - loss: 1.0303\n",
            "Epoch 18: val_accuracy did not improve from 0.54874\n",
            "\u001b[1m29837/29837\u001b[0m \u001b[32m━━━━━━━━━━━━━━━━━━━━\u001b[0m\u001b[37m\u001b[0m \u001b[1m802s\u001b[0m 27ms/step - accuracy: 0.6675 - loss: 1.0303 - val_accuracy: 0.5417 - val_loss: 1.5761 - learning_rate: 9.1342e-05\n"
          ]
        }
      ]
    },
    {
      "cell_type": "code",
      "source": [
        "model_1.save('Model_Sh_run2.keras')"
      ],
      "metadata": {
        "id": "cDKDojbUzf9l"
      },
      "execution_count": 22,
      "outputs": []
    },
    {
      "cell_type": "markdown",
      "source": [
        "* Trd Run"
      ],
      "metadata": {
        "id": "naq4VsytzR8g"
      }
    },
    {
      "cell_type": "code",
      "source": [
        "model_1=tf.keras.models.load_model('Model_Sh.keras')"
      ],
      "metadata": {
        "id": "oh_2LzpezKiT"
      },
      "execution_count": null,
      "outputs": []
    },
    {
      "cell_type": "code",
      "source": [
        "def lr_schedule_exp(epoch):\n",
        "    return float(tf.exp(-epoch/10.)*0.001)/2\n",
        "learning_rate_callback=tf.keras.callbacks.LearningRateScheduler(lr_schedule_exp)\n",
        "checkpoint=tf.keras.callbacks.ModelCheckpoint('model_1.keras',monitor='val_accuracy',mode='max',save_best_only=True,verbose=1)"
      ],
      "metadata": {
        "id": "PN4MEWkqvYJo"
      },
      "execution_count": null,
      "outputs": []
    },
    {
      "cell_type": "code",
      "source": [
        "history_1=model_1.fit(train_set, initial_epoch=7,epochs=18, validation_data=valid_set,callbacks=[learning_rate_callback,checkpoint],steps_per_epoch=29837)\n"
      ],
      "metadata": {
        "id": "-lh8Coe0zAPS"
      },
      "execution_count": null,
      "outputs": []
    },
    {
      "cell_type": "markdown",
      "source": [
        "# Using The Model_1 To Create Shakespearean Text"
      ],
      "metadata": {
        "id": "zBhRtg97VPg1"
      }
    },
    {
      "cell_type": "code",
      "source": [
        "model_1.save('Model_Sh.keras')"
      ],
      "metadata": {
        "id": "qLTIKmMCXGMx"
      },
      "execution_count": null,
      "outputs": []
    },
    {
      "cell_type": "code",
      "source": [
        "Model_Sh=tf.keras.Sequential([\n",
        "    text_vetc_layer,\n",
        "    model_1\n",
        "])"
      ],
      "metadata": {
        "id": "VGiwQzW4Vant"
      },
      "execution_count": null,
      "outputs": []
    },
    {
      "cell_type": "markdown",
      "source": [
        "* Let's test our Model_Sh"
      ],
      "metadata": {
        "id": "dxZzyqGhWDmi"
      }
    },
    {
      "cell_type": "code",
      "source": [
        "text_vetc_layer('hi')"
      ],
      "metadata": {
        "colab": {
          "base_uri": "https://localhost:8080/"
        },
        "id": "J7MO-nw3Wg9s",
        "outputId": "21aca196-4aa0-4b95-aa08-f047bfc617af"
      },
      "execution_count": null,
      "outputs": [
        {
          "output_type": "execute_result",
          "data": {
            "text/plain": [
              "<tf.Tensor: shape=(2,), dtype=int64, numpy=array([8, 7])>"
            ]
          },
          "metadata": {},
          "execution_count": 24
        }
      ]
    },
    {
      "cell_type": "code",
      "source": [
        "y_pred_prob=Model_Sh.predict(tf.constant(['to be or not ']))[0,-1]"
      ],
      "metadata": {
        "colab": {
          "base_uri": "https://localhost:8080/"
        },
        "id": "oLl9r_EIYdJa",
        "outputId": "14fef7b6-eeaa-4f1c-db9d-45ae62927f69"
      },
      "execution_count": null,
      "outputs": [
        {
          "output_type": "stream",
          "name": "stdout",
          "text": [
            "\u001b[1m1/1\u001b[0m \u001b[32m━━━━━━━━━━━━━━━━━━━━\u001b[0m\u001b[37m\u001b[0m \u001b[1m1s\u001b[0m 1s/step\n"
          ]
        }
      ]
    },
    {
      "cell_type": "code",
      "source": [
        "y_pred=tf.argmax(y_pred_prob)"
      ],
      "metadata": {
        "id": "QWuaDqs6afSH"
      },
      "execution_count": null,
      "outputs": []
    },
    {
      "cell_type": "code",
      "source": [
        "y_pred"
      ],
      "metadata": {
        "colab": {
          "base_uri": "https://localhost:8080/"
        },
        "id": "dGLTn8l2bTft",
        "outputId": "93dc0c4d-4c1b-4d5a-e877-e45cab91fe23"
      },
      "execution_count": null,
      "outputs": [
        {
          "output_type": "execute_result",
          "data": {
            "text/plain": [
              "<tf.Tensor: shape=(), dtype=int64, numpy=4>"
            ]
          },
          "metadata": {},
          "execution_count": 27
        }
      ]
    },
    {
      "cell_type": "code",
      "source": [
        "print(text_vetc_layer.get_vocabulary()[y_pred])"
      ],
      "metadata": {
        "colab": {
          "base_uri": "https://localhost:8080/"
        },
        "id": "nKA31AVCbVl-",
        "outputId": "1b2f400e-6a38-493a-dae5-20febf01f9c1"
      },
      "execution_count": null,
      "outputs": [
        {
          "output_type": "stream",
          "name": "stdout",
          "text": [
            "t\n"
          ]
        }
      ]
    },
    {
      "cell_type": "code",
      "source": [],
      "metadata": {
        "id": "COkqlKYYbdAE"
      },
      "execution_count": null,
      "outputs": []
    },
    {
      "cell_type": "markdown",
      "source": [
        "* Function to predict the next character"
      ],
      "metadata": {
        "id": "u07f_FOXLCpo"
      }
    },
    {
      "cell_type": "code",
      "source": [
        "def next_char_prediction(text,model,temp=1):\n",
        "  y_pred_prob=model.predict(tf.constant([text]))[0,-1]\n",
        "  logits=tf.math.log([y_pred_prob])/temp\n",
        "  y_pred=tf.random.categorical(logits=logits,num_samples=1)[0,0]\n",
        "  return text_vetc_layer.get_vocabulary()[y_pred]"
      ],
      "metadata": {
        "id": "opyNXi53cqGC"
      },
      "execution_count": null,
      "outputs": []
    },
    {
      "cell_type": "markdown",
      "source": [
        "* Function to predict the next n_characters"
      ],
      "metadata": {
        "id": "iFpXCw6XLNFn"
      }
    },
    {
      "cell_type": "code",
      "source": [
        "def predict_text(text,n_chars,model,temp=1):\n",
        "  for _ in range(n_chars):\n",
        "    text+=next_char_prediction(text,model,temp)\n",
        "  return text"
      ],
      "metadata": {
        "id": "7UTCVvtDLBZA"
      },
      "execution_count": null,
      "outputs": []
    },
    {
      "cell_type": "code",
      "source": [
        "predict_text('The d',n_chars=3,model=Model_Sh,temp=0.01)"
      ],
      "metadata": {
        "id": "oyTqlN0bL8wW",
        "outputId": "432f17dc-8c02-4202-e706-48ab95791841",
        "colab": {
          "base_uri": "https://localhost:8080/",
          "height": 88
        }
      },
      "execution_count": null,
      "outputs": [
        {
          "output_type": "stream",
          "name": "stdout",
          "text": [
            "\u001b[1m1/1\u001b[0m \u001b[32m━━━━━━━━━━━━━━━━━━━━\u001b[0m\u001b[37m\u001b[0m \u001b[1m0s\u001b[0m 132ms/step\n",
            "\u001b[1m1/1\u001b[0m \u001b[32m━━━━━━━━━━━━━━━━━━━━\u001b[0m\u001b[37m\u001b[0m \u001b[1m0s\u001b[0m 74ms/step\n",
            "\u001b[1m1/1\u001b[0m \u001b[32m━━━━━━━━━━━━━━━━━━━━\u001b[0m\u001b[37m\u001b[0m \u001b[1m0s\u001b[0m 88ms/step\n"
          ]
        },
        {
          "output_type": "execute_result",
          "data": {
            "text/plain": [
              "'The duke'"
            ],
            "application/vnd.google.colaboratory.intrinsic+json": {
              "type": "string"
            }
          },
          "metadata": {},
          "execution_count": 31
        }
      ]
    },
    {
      "cell_type": "code",
      "source": [
        "predict_text('Let us kill ',n_chars=7,model=Model_Sh,temp=0.001)"
      ],
      "metadata": {
        "id": "EDfFsdZRRz0d",
        "outputId": "176f5daa-e8b0-47ce-caf1-2843beb929b1",
        "colab": {
          "base_uri": "https://localhost:8080/",
          "height": 157
        }
      },
      "execution_count": null,
      "outputs": [
        {
          "output_type": "stream",
          "name": "stdout",
          "text": [
            "\u001b[1m1/1\u001b[0m \u001b[32m━━━━━━━━━━━━━━━━━━━━\u001b[0m\u001b[37m\u001b[0m \u001b[1m0s\u001b[0m 87ms/step\n",
            "\u001b[1m1/1\u001b[0m \u001b[32m━━━━━━━━━━━━━━━━━━━━\u001b[0m\u001b[37m\u001b[0m \u001b[1m0s\u001b[0m 34ms/step\n",
            "\u001b[1m1/1\u001b[0m \u001b[32m━━━━━━━━━━━━━━━━━━━━\u001b[0m\u001b[37m\u001b[0m \u001b[1m0s\u001b[0m 66ms/step\n",
            "\u001b[1m1/1\u001b[0m \u001b[32m━━━━━━━━━━━━━━━━━━━━\u001b[0m\u001b[37m\u001b[0m \u001b[1m0s\u001b[0m 69ms/step\n",
            "\u001b[1m1/1\u001b[0m \u001b[32m━━━━━━━━━━━━━━━━━━━━\u001b[0m\u001b[37m\u001b[0m \u001b[1m0s\u001b[0m 51ms/step\n",
            "\u001b[1m1/1\u001b[0m \u001b[32m━━━━━━━━━━━━━━━━━━━━\u001b[0m\u001b[37m\u001b[0m \u001b[1m0s\u001b[0m 86ms/step\n",
            "\u001b[1m1/1\u001b[0m \u001b[32m━━━━━━━━━━━━━━━━━━━━\u001b[0m\u001b[37m\u001b[0m \u001b[1m0s\u001b[0m 52ms/step\n"
          ]
        },
        {
          "output_type": "execute_result",
          "data": {
            "text/plain": [
              "'Let us kill the sta'"
            ],
            "application/vnd.google.colaboratory.intrinsic+json": {
              "type": "string"
            }
          },
          "metadata": {},
          "execution_count": 32
        }
      ]
    },
    {
      "cell_type": "code",
      "source": [],
      "metadata": {
        "id": "fstJ1wiNSVUW"
      },
      "execution_count": null,
      "outputs": []
    }
  ]
}